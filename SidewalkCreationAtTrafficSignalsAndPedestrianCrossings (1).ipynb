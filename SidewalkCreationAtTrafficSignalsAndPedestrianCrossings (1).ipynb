{
 "cells": [
  {
   "cell_type": "code",
   "execution_count": 1,
   "metadata": {},
   "outputs": [],
   "source": [
    "# Imports used for writing postgis table\n",
    "from geoalchemy2.shape import to_shape\n",
    "import pandas as pd\n",
    "import json\n",
    "df = pd.DataFrame()\n",
    "from geoalchemy2 import Geometry, WKTElement\n",
    "from sqlalchemy import *\n",
    "#used for reading postgis table \n",
    "import psycopg2  # (if it is postgres/postgis)\n",
    "from shapely import wkb\n",
    "#user for working with spatial/data\n",
    "import pandas as pd\n",
    "import geopandas as gpd\n",
    "\n",
    "%matplotlib inline\n",
    "pd.set_option('display.max_rows', 500)\n",
    "pd.set_option('display.max_columns', 500)\n",
    "pd.set_option('display.width', 1000)"
   ]
  },
  {
   "cell_type": "code",
   "execution_count": 2,
   "metadata": {},
   "outputs": [],
   "source": [
    "con = psycopg2.connect(database=\"walkability\", user=\"postgres\", password=\"1234\",\n",
    "    host=\"172.19.118.205\",port=\"5432\")\n",
    "curs = con.cursor()"
   ]
  },
  {
   "cell_type": "code",
   "execution_count": 118,
   "metadata": {},
   "outputs": [],
   "source": [
    "sql = \"SELECT * FROM compliance.to_all\"\n",
    "sidewalks = gpd.GeoDataFrame.from_postgis(sql, con, geom_col='geom')\n",
    "sql = \"select * FROM compliance.centreline_intersection\"\n",
    "centerline_inx = gpd.GeoDataFrame.from_postgis(sql, con, geom_col='geom')\n",
    "# sql = \"select * FROM compliance.traffic_signals_to_add\"                # signals point file to create crosswalks from\n",
    "# sql = \"select * FROM compliance.traffic_signals\"\n",
    "sql = \"select * FROM compliance.pedestrian_crossovers\"\n",
    "# pedex = gpd.GeoDataFrame.from_postgis(sql, con, geom_col='geom')       # shape or geom column  ******\n",
    "pedex = gpd.GeoDataFrame.from_postgis(sql, con, geom_col='shape')\n"
   ]
  },
  {
   "cell_type": "code",
   "execution_count": 120,
   "metadata": {},
   "outputs": [],
   "source": [
    "# potential_crosswalks = sidewalks[sidewalks.geom.length < 25]\n",
    "# centerlines = centerlines[centerlines.feature__1 !=\"Local\"]\n",
    "#centerlines_index = centerlines.sindex\n",
    "line_segs = []\n",
    "sidewalks_index = sidewalks.sindex\n",
    "pedex['geom'] = pedex['shape']                              # change for geom *****\n",
    "for idx,inxpt in pedex.iterrows():\n",
    "    possible_matches_index = list(sidewalks_index.intersection(inxpt.geom.buffer(25).bounds))\n",
    "    #using the index of possible matches to filter the centerlines dataframe for only \"possible_matches\"\n",
    "    possible_matches = sidewalks.iloc[possible_matches_index]\n",
    "    precise_matches = possible_matches[possible_matches.intersects(inxpt.geom.buffer(25))]\n",
    "    if not precise_matches.empty:\n",
    "        #print(precise_matches.gid)\n",
    "        #precise_matches.plot()\n",
    "        b= inxpt.geom.buffer(15)\n",
    "        interpts = precise_matches.unary_union.intersection(b.boundary)\n",
    "        pts1 = interpts#interpts[(~interpts.is_empty)& (interpts.geom_type == 'Point') ].tolist()\n",
    "        pts = []\n",
    "        if pts1.geom_type != \"Point\":\n",
    "            for pt in pts1: \n",
    "                if pt.geom_type == \"Point\":\n",
    "                    pts.append(pt)\n",
    "                elif pt.geom_type == \"MultiPoint\":\n",
    "                    for p in pt: \n",
    "                        pts.append(p)\n",
    "                else: \n",
    "                    print(\"Weird Geom in pts\", pt)\n",
    "        if pts:\n",
    "            hull  = shapely.geometry.MultiPoint(pts).convex_hull\n",
    "            if hull.geom_type == \"Polygon\":\n",
    "                pts = hull.boundary.coords\n",
    "                if len(pts) > 1: \n",
    "                    for pix in range(0,len(pts),1):\n",
    "                        pt2 = pts[pix]\n",
    "                        pt1 = pts[pix-1]\n",
    "                        line_segs.append(shapely.geometry.LineString([pt1,pt2]))  \n",
    "            elif hull.geom_type == \"LineString\":\n",
    "                line_segs.append(hull)\n",
    "            elif hull.geom_type == \"Point\":\n",
    "                line_segs.append(shapely.geometry.LineString([inxpt.geom,hull]))  \n",
    "            else: \n",
    "                print(\"Weird Geom in hull\",hull)\n",
    "        else:\n",
    "            print(\"no f'n points\")\n"
   ]
  },
  {
   "cell_type": "code",
   "execution_count": 122,
   "metadata": {},
   "outputs": [],
   "source": [
    "recs = []\n",
    "for idx,geom in enumerate(line_segs):\n",
    "    recs.append({\"gid\":idx,\"geometry\":geom})\n",
    "    \n",
    "out = gpd.GeoDataFrame(recs,geometry='geometry')\n",
    "out.to_file(\"/media/DATADRIVE/walkability/test_cross_gen_pc_all.shp\")         # rename output ******"
   ]
  },
  {
   "cell_type": "code",
   "execution_count": null,
   "metadata": {},
   "outputs": [],
   "source": []
  }
 ],
 "metadata": {
  "kernelspec": {
   "display_name": "Python 3",
   "language": "python",
   "name": "python3"
  },
  "language_info": {
   "codemirror_mode": {
    "name": "ipython",
    "version": 3
   },
   "file_extension": ".py",
   "mimetype": "text/x-python",
   "name": "python",
   "nbconvert_exporter": "python",
   "pygments_lexer": "ipython3",
   "version": "3.6.4"
  }
 },
 "nbformat": 4,
 "nbformat_minor": 2
}
