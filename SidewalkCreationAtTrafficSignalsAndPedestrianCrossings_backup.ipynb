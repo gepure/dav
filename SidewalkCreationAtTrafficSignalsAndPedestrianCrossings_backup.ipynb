{
 "cells": [
  {
   "cell_type": "code",
   "execution_count": 1,
   "metadata": {},
   "outputs": [],
   "source": [
    "# Imports used for writing postgis table\n",
    "from geoalchemy2.shape import to_shape\n",
    "import pandas as pd\n",
    "import json\n",
    "df = pd.DataFrame()\n",
    "from geoalchemy2 import Geometry, WKTElement\n",
    "from sqlalchemy import *\n",
    "#used for reading postgis table \n",
    "import psycopg2  # (if it is postgres/postgis)\n",
    "from shapely import wkb\n",
    "#user for working with spatial/data\n",
    "import pandas as pd\n",
    "import geopandas as gpd\n",
    "\n",
    "%matplotlib inline\n",
    "pd.set_option('display.max_rows', 500)\n",
    "pd.set_option('display.max_columns', 500)\n",
    "pd.set_option('display.width', 1000)"
   ]
  },
  {
   "cell_type": "code",
   "execution_count": 2,
   "metadata": {},
   "outputs": [],
   "source": [
    "con = psycopg2.connect(database=\"walkability\", user=\"postgres\", password=\"1234\",\n",
    "    host=\"172.19.118.205\",port=\"5432\")\n",
    "curs = con.cursor()"
   ]
  },
  {
   "cell_type": "code",
   "execution_count": 118,
   "metadata": {},
   "outputs": [],
   "source": [
    "sql = \"SELECT * FROM compliance.to_all\"\n",
    "sidewalks = gpd.GeoDataFrame.from_postgis(sql, con, geom_col='geom')\n",
    "sql = \"select * FROM compliance.centreline_intersection\"\n",
    "centerline_inx = gpd.GeoDataFrame.from_postgis(sql, con, geom_col='geom')\n",
    "# sql = \"select * FROM compliance.traffic_signals_to_add\"                # signals point file to create crosswalks from\n",
    "# sql = \"select * FROM compliance.traffic_signals\"\n",
    "sql = \"select * FROM compliance.pedestrian_crossovers\"\n",
    "# pedex = gpd.GeoDataFrame.from_postgis(sql, con, geom_col='geom')       # shape or geom column  ******\n",
    "pedex = gpd.GeoDataFrame.from_postgis(sql, con, geom_col='shape')\n"
   ]
  },
  {
   "cell_type": "code",
   "execution_count": 120,
   "metadata": {},
   "outputs": [],
   "source": [
    "# potential_crosswalks = sidewalks[sidewalks.geom.length < 25]\n",
    "# centerlines = centerlines[centerlines.feature__1 !=\"Local\"]\n",
    "#centerlines_index = centerlines.sindex\n",
    "line_segs = []\n",
    "sidewalks_index = sidewalks.sindex\n",
    "pedex['geom'] = pedex['shape']                              # change for geom *****\n",
    "for idx,inxpt in pedex.iterrows():\n",
    "    possible_matches_index = list(sidewalks_index.intersection(inxpt.geom.buffer(25).bounds))\n",
    "    #using the index of possible matches to filter the centerlines dataframe for only \"possible_matches\"\n",
    "    possible_matches = sidewalks.iloc[possible_matches_index]\n",
    "    precise_matches = possible_matches[possible_matches.intersects(inxpt.geom.buffer(25))]\n",
    "    if not precise_matches.empty:\n",
    "        #print(precise_matches.gid)\n",
    "        #precise_matches.plot()\n",
    "        b= inxpt.geom.buffer(15)\n",
    "        interpts = precise_matches.unary_union.intersection(b.boundary)\n",
    "        pts1 = interpts#interpts[(~interpts.is_empty)& (interpts.geom_type == 'Point') ].tolist()\n",
    "        pts = []\n",
    "        if pts1.geom_type != \"Point\":\n",
    "            for pt in pts1: \n",
    "                if pt.geom_type == \"Point\":\n",
    "                    pts.append(pt)\n",
    "                elif pt.geom_type == \"MultiPoint\":\n",
    "                    for p in pt: \n",
    "                        pts.append(p)\n",
    "                else: \n",
    "                    print(\"Weird Geom in pts\", pt)\n",
    "        if pts:\n",
    "            hull  = shapely.geometry.MultiPoint(pts).convex_hull\n",
    "            if hull.geom_type == \"Polygon\":\n",
    "                pts = hull.boundary.coords\n",
    "                if len(pts) > 1: \n",
    "                    for pix in range(0,len(pts),1):\n",
    "                        pt2 = pts[pix]\n",
    "                        pt1 = pts[pix-1]\n",
    "                        line_segs.append(shapely.geometry.LineString([pt1,pt2]))  \n",
    "            elif hull.geom_type == \"LineString\":\n",
    "                line_segs.append(hull)\n",
    "            elif hull.geom_type == \"Point\":\n",
    "                line_segs.append(shapely.geometry.LineString([inxpt.geom,hull]))  \n",
    "            else: \n",
    "                print(\"Weird Geom in hull\",hull)\n",
    "        else:\n",
    "            print(\"no f'n points\")\n",
    "    #         for pix in range(0,len(pts),1):\n",
    "#             if pix < len(pts):\n",
    "#                 pt2 = pts[pix]\n",
    "#                 pt1 = pts[pix-1]\n",
    "#                 line_segs.append(shapely.geometry.LineString([pt1,pt2]))    \n",
    "         \n",
    "                          \n",
    "                          \n",
    "                          \n",
    "                          \n",
    "                          \n",
    "                          \n",
    "                          \n",
    "                          \n",
    "                          \n",
    "#         sql = \"SELECT ST_ShortestLine(a.shape,b.geom) FROM compliance.pedestrian_crossovers as a,  compliance.centreline_intersection as b WHERE a.objectid = %s AND b.gid = %s\" %(i.objectid,j.gid)\n",
    "#         curs.execute(sql)\n",
    "#         res = curs.fetchall()\n",
    "#         temp_crosswalk = wkb.loads(res[0][0], hex=True)\n",
    "           "
   ]
  },
  {
   "cell_type": "code",
   "execution_count": 122,
   "metadata": {},
   "outputs": [],
   "source": [
    "recs = []\n",
    "for idx,geom in enumerate(line_segs):\n",
    "    recs.append({\"gid\":idx,\"geometry\":geom})\n",
    "    \n",
    "out = gpd.GeoDataFrame(recs,geometry='geometry')\n",
    "out.to_file(\"/media/DATADRIVE/walkability/test_cross_gen_pc_all.shp\")         # rename output ******"
   ]
  },
  {
   "cell_type": "code",
   "execution_count": null,
   "metadata": {},
   "outputs": [],
   "source": []
  },
  {
   "cell_type": "raw",
   "metadata": {},
   "source": [
    "con = psycopg2.connect(database=\"walkability\", user=\"postgres\", password=\"1234\",\n",
    "    host=\"172.19.118.205\",port=\"5432\")\n",
    "curs = con.cursor()\n",
    "results = []\n",
    "for idx,i in pedex.iterrows():\n",
    "    for jdx,j in centerline_inx.iterrows():\n",
    "        sql = \"SELECT ST_ShortestLine(a.shape,b.geom) FROM compliance.pedestrian_crossovers as a,  compliance.centreline_intersection as b WHERE a.objectid = %s AND b.gid = %s\" %(i.objectid,j.gid)\n",
    "        curs.execute(sql)\n",
    "        res = curs.fetchall()\n",
    "        temp_crosswalk = wkb.loads(res[0][0], hex=True)\n",
    "        row_count = 0\n",
    "        for row in res:\n",
    "            row_count += 1\n",
    "            print(\"row: %s    %s\\n\" % (row_count, row))\n",
    "        break\n",
    "    break\n"
   ]
  },
  {
   "cell_type": "code",
   "execution_count": 12,
   "metadata": {},
   "outputs": [],
   "source": [
    "con = psycopg2.connect(database=\"walkability\", user=\"postgres\", password=\"1234\",\n",
    "    host=\"172.19.118.205\",port=\"5432\")\n",
    "curs = con.cursor()\n",
    "sql = \"SELECT * FROM compliance.pedestrian_crossovers\"\n",
    "res = curs.execute(sql)\n"
   ]
  },
  {
   "cell_type": "code",
   "execution_count": 167,
   "metadata": {},
   "outputs": [
    {
     "data": {
      "text/plain": [
       "(313669.47066969844, 4841862.981267241)"
      ]
     },
     "execution_count": 167,
     "metadata": {},
     "output_type": "execute_result"
    }
   ],
   "source": [
    "hull.boundary.coords[0]"
   ]
  },
  {
   "cell_type": "code",
   "execution_count": 46,
   "metadata": {},
   "outputs": [
    {
     "data": {
      "image/svg+xml": [
       "<svg xmlns=\"http://www.w3.org/2000/svg\" xmlns:xlink=\"http://www.w3.org/1999/xlink\" width=\"300\" height=\"300\" viewBox=\"302324.05543999997 4830295.61744 10242.708120000141 5169.065120000392\" preserveAspectRatio=\"xMinYMin meet\"><g transform=\"matrix(1,0,0,-1,0,9665760.3)\"><polyline fill=\"none\" stroke=\"#66cc99\" stroke-width=\"68.28472080000094\" points=\"312187.4040000001,4835085.323000001 302703.415,4830674.977\" opacity=\"0.8\" /></g></svg>"
      ],
      "text/plain": [
       "<shapely.geometry.linestring.LineString at 0x7fd95a9442b0>"
      ]
     },
     "execution_count": 46,
     "metadata": {},
     "output_type": "execute_result"
    }
   ],
   "source": []
  },
  {
   "cell_type": "code",
   "execution_count": 45,
   "metadata": {},
   "outputs": [
    {
     "data": {
      "text/plain": [
       "'0102000020E307000002000000102DB29DED0D13413208AC54C37152418FC2F5A8BD791241022B87BE746D5241'"
      ]
     },
     "execution_count": 45,
     "metadata": {},
     "output_type": "execute_result"
    }
   ],
   "source": [
    "res[0][0]"
   ]
  },
  {
   "cell_type": "code",
   "execution_count": 107,
   "metadata": {},
   "outputs": [
    {
     "ename": "ModuleNotFoundError",
     "evalue": "No module named 'arcpy'",
     "output_type": "error",
     "traceback": [
      "\u001b[0;31m---------------------------------------------------------------------------\u001b[0m",
      "\u001b[0;31mModuleNotFoundError\u001b[0m                       Traceback (most recent call last)",
      "\u001b[0;32m<ipython-input-107-5467a3dc9fe3>\u001b[0m in \u001b[0;36m<module>\u001b[0;34m()\u001b[0m\n\u001b[0;32m----> 1\u001b[0;31m \u001b[0;32mimport\u001b[0m \u001b[0marcpy\u001b[0m\u001b[0;34m\u001b[0m\u001b[0m\n\u001b[0m",
      "\u001b[0;31mModuleNotFoundError\u001b[0m: No module named 'arcpy'"
     ]
    }
   ],
   "source": [
    "import arcpy\n"
   ]
  },
  {
   "cell_type": "code",
   "execution_count": 3,
   "metadata": {},
   "outputs": [],
   "source": [
    "# find closest point on line                                ********************************\n",
    "\n",
    "sql = \"SELECT * FROM compliance.to_all\"\n",
    "sidewalks = gpd.GeoDataFrame.from_postgis(sql, con, geom_col='geom')\n",
    "sql = \"select * FROM compliance.centreline_filtered\"\n",
    "centerline_fil = gpd.GeoDataFrame.from_postgis(sql, con, geom_col='geom')\n",
    "# sql = \"select * FROM compliance.pedestrian_crossovers\"\n",
    "sql = \"select * FROM compliance.crosswalks_to_add_on_ped_crosswalks\"\n",
    "pedex = gpd.GeoDataFrame.from_postgis(sql, con, geom_col='geom')"
   ]
  },
  {
   "cell_type": "code",
   "execution_count": 10,
   "metadata": {
    "scrolled": true
   },
   "outputs": [
    {
     "ename": "TypeError",
     "evalue": "not all arguments converted during string formatting",
     "output_type": "error",
     "traceback": [
      "\u001b[0;31m---------------------------------------------------------------------------\u001b[0m",
      "\u001b[0;31mTypeError\u001b[0m                                 Traceback (most recent call last)",
      "\u001b[0;32m<ipython-input-10-5018d532aa01>\u001b[0m in \u001b[0;36m<module>\u001b[0;34m()\u001b[0m\n\u001b[1;32m      7\u001b[0m \u001b[0;32mfor\u001b[0m \u001b[0midx\u001b[0m\u001b[0;34m,\u001b[0m\u001b[0mi\u001b[0m \u001b[0;32min\u001b[0m \u001b[0mpedex\u001b[0m\u001b[0;34m.\u001b[0m\u001b[0miterrows\u001b[0m\u001b[0;34m(\u001b[0m\u001b[0;34m)\u001b[0m\u001b[0;34m:\u001b[0m\u001b[0;34m\u001b[0m\u001b[0m\n\u001b[1;32m      8\u001b[0m    \u001b[0;32mfor\u001b[0m \u001b[0mjdx\u001b[0m\u001b[0;34m,\u001b[0m\u001b[0mj\u001b[0m \u001b[0;32min\u001b[0m \u001b[0msidewalks\u001b[0m\u001b[0;34m.\u001b[0m\u001b[0miterrows\u001b[0m\u001b[0;34m(\u001b[0m\u001b[0;34m)\u001b[0m\u001b[0;34m:\u001b[0m\u001b[0;34m\u001b[0m\u001b[0m\n\u001b[0;32m----> 9\u001b[0;31m      \u001b[0msql\u001b[0m \u001b[0;34m=\u001b[0m \u001b[0;34m\"select st_distance(st_closestpoint(l.geom, p.geom), p.geom) as shortest_distance, ST_AsText(ST_ClosestPoint(l.geom,p.geom)) As pt1, ST_AsText(ST_ClosestPoint(p.geom,l.geom)) As pt2, p.objectid from compliance.crosswalks_to_add_on_ped_crosswalks p, compliance.to_all l where p.objectid=%s and  order by shortest_distance asc limit 2;\"\u001b[0m \u001b[0;34m%\u001b[0m\u001b[0;34m(\u001b[0m\u001b[0mi\u001b[0m\u001b[0;34m.\u001b[0m\u001b[0mobjectid\u001b[0m\u001b[0;34m,\u001b[0m\u001b[0mj\u001b[0m\u001b[0;34m.\u001b[0m\u001b[0mgid\u001b[0m\u001b[0;34m)\u001b[0m\u001b[0;34m\u001b[0m\u001b[0m\n\u001b[0m\u001b[1;32m     10\u001b[0m      \u001b[0mcurs\u001b[0m\u001b[0;34m.\u001b[0m\u001b[0mexecute\u001b[0m\u001b[0;34m(\u001b[0m\u001b[0msql\u001b[0m\u001b[0;34m)\u001b[0m\u001b[0;34m\u001b[0m\u001b[0m\n\u001b[1;32m     11\u001b[0m      \u001b[0mres\u001b[0m \u001b[0;34m=\u001b[0m \u001b[0mcurs\u001b[0m\u001b[0;34m.\u001b[0m\u001b[0mfetchall\u001b[0m\u001b[0;34m(\u001b[0m\u001b[0;34m)\u001b[0m\u001b[0;34m\u001b[0m\u001b[0m\n",
      "\u001b[0;31mTypeError\u001b[0m: not all arguments converted during string formatting"
     ]
    }
   ],
   "source": [
    "# draw crosswalk\n",
    "\n",
    "con = psycopg2.connect(database=\"walkability\", user=\"postgres\", password=\"1234\",\n",
    "    host=\"172.19.118.205\",port=\"5432\")\n",
    "curs = con.cursor()\n",
    "results = []\n",
    "for idx,i in pedex.iterrows():\n",
    "   for jdx,j in sidewalks.iterrows():\n",
    "     sql = \"select st_distance(st_closestpoint(l.geom, p.geom), p.geom) as shortest_distance, ST_AsText(ST_ClosestPoint(l.geom,p.geom)) As pt1, ST_AsText(ST_ClosestPoint(p.geom,l.geom)) As pt2, p.objectid from compliance.crosswalks_to_add_on_ped_crosswalks p, compliance.to_all l where p.objectid=%s and  order by shortest_distance asc limit 2;\" %(i.objectid,j.gid)\n",
    "     curs.execute(sql)\n",
    "     res = curs.fetchall()\n",
    "     temp_crosswalk = wkb.loads(res[0][0], hex=True)\n",
    "     row_count = 0\n",
    "     for row in res:\n",
    "        row_count += 1\n",
    "        print(\"row: %s    %s\\n\" % (row_count, row))\n",
    "        break\n",
    "     break\n"
   ]
  },
  {
   "cell_type": "code",
   "execution_count": 11,
   "metadata": {},
   "outputs": [
    {
     "ename": "TypeError",
     "evalue": "not all arguments converted during string formatting",
     "output_type": "error",
     "traceback": [
      "\u001b[0;31m---------------------------------------------------------------------------\u001b[0m",
      "\u001b[0;31mTypeError\u001b[0m                                 Traceback (most recent call last)",
      "\u001b[0;32m<ipython-input-11-2bac2b6faf86>\u001b[0m in \u001b[0;36m<module>\u001b[0;34m()\u001b[0m\n\u001b[1;32m      7\u001b[0m \u001b[0;32mfor\u001b[0m \u001b[0midx\u001b[0m\u001b[0;34m,\u001b[0m\u001b[0mi\u001b[0m \u001b[0;32min\u001b[0m \u001b[0mpedex\u001b[0m\u001b[0;34m.\u001b[0m\u001b[0miterrows\u001b[0m\u001b[0;34m(\u001b[0m\u001b[0;34m)\u001b[0m\u001b[0;34m:\u001b[0m\u001b[0;34m\u001b[0m\u001b[0m\n\u001b[1;32m      8\u001b[0m    \u001b[0;32mfor\u001b[0m \u001b[0mjdx\u001b[0m\u001b[0;34m,\u001b[0m\u001b[0mj\u001b[0m \u001b[0;32min\u001b[0m \u001b[0msidewalks\u001b[0m\u001b[0;34m.\u001b[0m\u001b[0miterrows\u001b[0m\u001b[0;34m(\u001b[0m\u001b[0;34m)\u001b[0m\u001b[0;34m:\u001b[0m\u001b[0;34m\u001b[0m\u001b[0m\n\u001b[0;32m----> 9\u001b[0;31m      \u001b[0msql\u001b[0m \u001b[0;34m=\u001b[0m \u001b[0;34m\"select st_distance(st_closestpoint(l.geom, p.geom), p.geom) as shortest_distance, ST_AsText(ST_ClosestPoint(l.geom,p.geom)) As pt1, ST_AsText(ST_ClosestPoint(p.geom,l.geom)) As pt2, p.objectid from compliance.crosswalks_to_add_on_ped_crosswalks p, compliance.to_all l where p.objectid=%s and  order by shortest_distance asc limit 2;\"\u001b[0m \u001b[0;34m%\u001b[0m\u001b[0;34m(\u001b[0m\u001b[0mi\u001b[0m\u001b[0;34m.\u001b[0m\u001b[0mobjectid\u001b[0m\u001b[0;34m,\u001b[0m\u001b[0mj\u001b[0m\u001b[0;34m.\u001b[0m\u001b[0mgid\u001b[0m\u001b[0;34m)\u001b[0m\u001b[0;34m\u001b[0m\u001b[0m\n\u001b[0m\u001b[1;32m     10\u001b[0m      \u001b[0mcurs\u001b[0m\u001b[0;34m.\u001b[0m\u001b[0mexecute\u001b[0m\u001b[0;34m(\u001b[0m\u001b[0msql\u001b[0m\u001b[0;34m)\u001b[0m\u001b[0;34m\u001b[0m\u001b[0m\n\u001b[1;32m     11\u001b[0m      \u001b[0mres\u001b[0m \u001b[0;34m=\u001b[0m \u001b[0mcurs\u001b[0m\u001b[0;34m.\u001b[0m\u001b[0mfetchall\u001b[0m\u001b[0;34m(\u001b[0m\u001b[0;34m)\u001b[0m\u001b[0;34m\u001b[0m\u001b[0m\n",
      "\u001b[0;31mTypeError\u001b[0m: not all arguments converted during string formatting"
     ]
    }
   ],
   "source": [
    "# draw crosswalk\n",
    "\n",
    "con = psycopg2.connect(database=\"walkability\", user=\"postgres\", password=\"1234\",\n",
    "    host=\"172.19.118.205\",port=\"5432\")\n",
    "curs = con.cursor()\n",
    "results = []\n",
    "for idx,i in pedex.iterrows():\n",
    "   for jdx,j in sidewalks.iterrows():\n",
    "     sql = \"select st_distance(st_closestpoint(l.geom, p.geom), p.geom) as shortest_distance, ST_AsText(ST_ClosestPoint(l.geom,p.geom)) As pt1, ST_AsText(ST_ClosestPoint(p.geom,l.geom)) As pt2, p.objectid from compliance.crosswalks_to_add_on_ped_crosswalks p, compliance.to_all l where p.objectid=%s and  order by shortest_distance asc limit 2;\" %(i.objectid,j.gid)\n",
    "     curs.execute(sql)\n",
    "     res = curs.fetchall()\n",
    "     temp_crosswalk = wkb.loads(res[0][0], hex=True)\n",
    "     row_count = 0\n",
    "     for row in res:\n",
    "        row_count += 1\n",
    "        print(\"row: %s    %s\\n\" % (row_count, row))\n",
    "        break\n",
    "     break"
   ]
  },
  {
   "cell_type": "code",
   "execution_count": null,
   "metadata": {},
   "outputs": [],
   "source": []
  }
 ],
 "metadata": {
  "kernelspec": {
   "display_name": "Python 3",
   "language": "python",
   "name": "python3"
  },
  "language_info": {
   "codemirror_mode": {
    "name": "ipython",
    "version": 3
   },
   "file_extension": ".py",
   "mimetype": "text/x-python",
   "name": "python",
   "nbconvert_exporter": "python",
   "pygments_lexer": "ipython3",
   "version": "3.6.4"
  }
 },
 "nbformat": 4,
 "nbformat_minor": 2
}
