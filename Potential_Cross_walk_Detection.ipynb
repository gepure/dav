{
 "cells": [
  {
   "cell_type": "code",
   "execution_count": 1,
   "metadata": {},
   "outputs": [],
   "source": [
    "# Imports used for writing postgis table\n",
    "from geoalchemy2 import Geometry, WKTElement\n",
    "from sqlalchemy import *\n",
    "#used for reading postgis table \n",
    "import psycopg2  # (if it is postgres/postgis)\n",
    "\n",
    "#user for working with spatial/data\n",
    "import pandas as pd\n",
    "import geopandas as gpd\n",
    "#SETTING up \n",
    "%matplotlib inline\n",
    "pd.set_option('display.max_rows', 500)\n",
    "pd.set_option('display.max_columns', 500)\n",
    "pd.set_option('display.width', 1000)"
   ]
  },
  {
   "cell_type": "code",
   "execution_count": 4,
   "metadata": {},
   "outputs": [],
   "source": [
    "#connecting to db ~ making connection\n",
    "con = psycopg2.connect(database=\"walkability\", user=\"postgres\", password=\"1234\",\n",
    "    host=\"172.19.118.205\",port=\"5432\")\n"
   ]
  },
  {
   "cell_type": "code",
   "execution_count": 76,
   "metadata": {},
   "outputs": [],
   "source": [
    "#grabbing layers sidewalks \n",
    "sql = \"SELECT * FROM compliance.to_all\" #change this to traffic_signal_auto generated lines \n",
    "sidewalks = gpd.GeoDataFrame.from_postgis(sql, con, geom_col='geom')\n",
    "\n",
    " \n",
    "sql = \"select * FROM compliance.centreline_intersection\"\n",
    "centerline_inx = gpd.GeoDataFrame.from_postgis(sql, con, geom_col='geom')\n",
    "\n",
    "\n",
    "sql = \"select * FROM compliance.centreline\"\n",
    "centerlines = gpd.GeoDataFrame.from_postgis(sql, con, geom_col='geom')\n",
    "\n",
    "\n"
   ]
  },
  {
   "cell_type": "code",
   "execution_count": 79,
   "metadata": {},
   "outputs": [],
   "source": [
    "\n",
    "#setting up an empty array for records\n",
    "recs =[]\n",
    "#filtering out sidewalk segments less than 40m\n",
    "potential_crosswalks = sidewalks[sidewalks.geom.length < 40]\n",
    "#grabbing the spatial r-tree index from the geodataframe and making it an easily accessed variable\n",
    "potential_crosswalks_index = potential_crosswalks.sindex\n",
    "centerlines_index = centerlines.sindex\n",
    "sidewalks_index = sidewalks.sindex\n",
    "#filtering centerlines by type\n",
    "centerlines_fl = centerlines[~centerlines['feature__1'].isin([\"Local\",\"Laneway\",'Trail','Hydro Line','Expressway Ramp','Geostatistical line','Walkway','Minor Shoreline (Land locked)','Minor Arterial Ramp'\n",
    "'Busway','Other Ramp','Minor Railway','Collector Ramp','Ferry Route','Creek/Tributary','Major Railway','River'])]\n",
    "#grabbing only the sidewalk segments that cross centerlines\n",
    "for idx,centerline in centerlines_fl.iterrows():\n",
    "    possible_crosswalk_index = list(potential_crosswalks_index.intersection(centerline.geom.bounds))\n",
    "    if possible_crosswalk_index: \n",
    "        possible_crosswalk = potential_crosswalks.iloc[possible_crosswalk_index]\n",
    "        precise_crosswalks = possible_crosswalk[possible_crosswalk.crosses(centerline.geom)]\n",
    "        for i, row in precise_crosswalks.iterrows(): \n",
    "            recs.append(row.to_dict())\n",
    "#creating a geodataframe from the list of records\n",
    "gdf = gpd.GeoDataFrame(recs,geometry='geom')\n",
    "#dropping the columns that can't be writtent to the database (python date/time objects - can convert these to string - just havvent)\n",
    "gdf.drop(['created_da','last_edite'],axis=1).to_file(\"/media/DATADRIVE/walkability/to_add_signals.shp\")\n",
    "\n",
    "\n"
   ]
  }
 ],
 "metadata": {
  "kernelspec": {
   "display_name": "Python 3",
   "language": "python",
   "name": "python3"
  },
  "language_info": {
   "codemirror_mode": {
    "name": "ipython",
    "version": 3
   },
   "file_extension": ".py",
   "mimetype": "text/x-python",
   "name": "python",
   "nbconvert_exporter": "python",
   "pygments_lexer": "ipython3",
   "version": "3.6.4"
  }
 },
 "nbformat": 4,
 "nbformat_minor": 2
}
